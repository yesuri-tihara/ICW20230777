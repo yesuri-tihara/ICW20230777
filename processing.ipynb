{
 "cells": [
  {
   "cell_type": "code",
   "execution_count": 2,
   "id": "a9af3489",
   "metadata": {},
   "outputs": [],
   "source": [
    "import pandas as pd"
   ]
  },
  {
   "cell_type": "code",
   "execution_count": 3,
   "id": "6a97f4bb",
   "metadata": {},
   "outputs": [
    {
     "data": {
      "text/html": [
       "<div>\n",
       "<style scoped>\n",
       "    .dataframe tbody tr th:only-of-type {\n",
       "        vertical-align: middle;\n",
       "    }\n",
       "\n",
       "    .dataframe tbody tr th {\n",
       "        vertical-align: top;\n",
       "    }\n",
       "\n",
       "    .dataframe thead th {\n",
       "        text-align: right;\n",
       "    }\n",
       "</style>\n",
       "<table border=\"1\" class=\"dataframe\">\n",
       "  <thead>\n",
       "    <tr style=\"text-align: right;\">\n",
       "      <th></th>\n",
       "      <th>Country Name</th>\n",
       "      <th>Country ISO3</th>\n",
       "      <th>Year</th>\n",
       "      <th>Indicator Name</th>\n",
       "      <th>Indicator Code</th>\n",
       "      <th>Value</th>\n",
       "    </tr>\n",
       "  </thead>\n",
       "  <tbody>\n",
       "    <tr>\n",
       "      <th>0</th>\n",
       "      <td>#country+name</td>\n",
       "      <td>#country+code</td>\n",
       "      <td>#date+year</td>\n",
       "      <td>#indicator+name</td>\n",
       "      <td>#indicator+code</td>\n",
       "      <td>#indicator+value+num</td>\n",
       "    </tr>\n",
       "    <tr>\n",
       "      <th>1</th>\n",
       "      <td>Sri Lanka</td>\n",
       "      <td>LKA</td>\n",
       "      <td>2015</td>\n",
       "      <td>Urban land area where elevation is below 5 met...</td>\n",
       "      <td>AG.LND.EL5M.UR.K2</td>\n",
       "      <td>276.928623</td>\n",
       "    </tr>\n",
       "    <tr>\n",
       "      <th>2</th>\n",
       "      <td>Sri Lanka</td>\n",
       "      <td>LKA</td>\n",
       "      <td>2000</td>\n",
       "      <td>Urban land area where elevation is below 5 met...</td>\n",
       "      <td>AG.LND.EL5M.UR.K2</td>\n",
       "      <td>268.672784</td>\n",
       "    </tr>\n",
       "    <tr>\n",
       "      <th>3</th>\n",
       "      <td>Sri Lanka</td>\n",
       "      <td>LKA</td>\n",
       "      <td>1990</td>\n",
       "      <td>Urban land area where elevation is below 5 met...</td>\n",
       "      <td>AG.LND.EL5M.UR.K2</td>\n",
       "      <td>247.8605941</td>\n",
       "    </tr>\n",
       "    <tr>\n",
       "      <th>4</th>\n",
       "      <td>Sri Lanka</td>\n",
       "      <td>LKA</td>\n",
       "      <td>2015</td>\n",
       "      <td>Urban land area where elevation is below 5 met...</td>\n",
       "      <td>AG.LND.EL5M.UR.ZS</td>\n",
       "      <td>0.425952534</td>\n",
       "    </tr>\n",
       "    <tr>\n",
       "      <th>...</th>\n",
       "      <td>...</td>\n",
       "      <td>...</td>\n",
       "      <td>...</td>\n",
       "      <td>...</td>\n",
       "      <td>...</td>\n",
       "      <td>...</td>\n",
       "    </tr>\n",
       "    <tr>\n",
       "      <th>475</th>\n",
       "      <td>Sri Lanka</td>\n",
       "      <td>LKA</td>\n",
       "      <td>1964</td>\n",
       "      <td>Urban population (% of total population)</td>\n",
       "      <td>SP.URB.TOTL.IN.ZS</td>\n",
       "      <td>17.014</td>\n",
       "    </tr>\n",
       "    <tr>\n",
       "      <th>476</th>\n",
       "      <td>Sri Lanka</td>\n",
       "      <td>LKA</td>\n",
       "      <td>1963</td>\n",
       "      <td>Urban population (% of total population)</td>\n",
       "      <td>SP.URB.TOTL.IN.ZS</td>\n",
       "      <td>16.916</td>\n",
       "    </tr>\n",
       "    <tr>\n",
       "      <th>477</th>\n",
       "      <td>Sri Lanka</td>\n",
       "      <td>LKA</td>\n",
       "      <td>1962</td>\n",
       "      <td>Urban population (% of total population)</td>\n",
       "      <td>SP.URB.TOTL.IN.ZS</td>\n",
       "      <td>16.753</td>\n",
       "    </tr>\n",
       "    <tr>\n",
       "      <th>478</th>\n",
       "      <td>Sri Lanka</td>\n",
       "      <td>LKA</td>\n",
       "      <td>1961</td>\n",
       "      <td>Urban population (% of total population)</td>\n",
       "      <td>SP.URB.TOTL.IN.ZS</td>\n",
       "      <td>16.592</td>\n",
       "    </tr>\n",
       "    <tr>\n",
       "      <th>479</th>\n",
       "      <td>Sri Lanka</td>\n",
       "      <td>LKA</td>\n",
       "      <td>1960</td>\n",
       "      <td>Urban population (% of total population)</td>\n",
       "      <td>SP.URB.TOTL.IN.ZS</td>\n",
       "      <td>16.431</td>\n",
       "    </tr>\n",
       "  </tbody>\n",
       "</table>\n",
       "<p>480 rows × 6 columns</p>\n",
       "</div>"
      ],
      "text/plain": [
       "      Country Name   Country ISO3        Year  \\\n",
       "0    #country+name  #country+code  #date+year   \n",
       "1        Sri Lanka            LKA        2015   \n",
       "2        Sri Lanka            LKA        2000   \n",
       "3        Sri Lanka            LKA        1990   \n",
       "4        Sri Lanka            LKA        2015   \n",
       "..             ...            ...         ...   \n",
       "475      Sri Lanka            LKA        1964   \n",
       "476      Sri Lanka            LKA        1963   \n",
       "477      Sri Lanka            LKA        1962   \n",
       "478      Sri Lanka            LKA        1961   \n",
       "479      Sri Lanka            LKA        1960   \n",
       "\n",
       "                                        Indicator Name     Indicator Code  \\\n",
       "0                                      #indicator+name    #indicator+code   \n",
       "1    Urban land area where elevation is below 5 met...  AG.LND.EL5M.UR.K2   \n",
       "2    Urban land area where elevation is below 5 met...  AG.LND.EL5M.UR.K2   \n",
       "3    Urban land area where elevation is below 5 met...  AG.LND.EL5M.UR.K2   \n",
       "4    Urban land area where elevation is below 5 met...  AG.LND.EL5M.UR.ZS   \n",
       "..                                                 ...                ...   \n",
       "475           Urban population (% of total population)  SP.URB.TOTL.IN.ZS   \n",
       "476           Urban population (% of total population)  SP.URB.TOTL.IN.ZS   \n",
       "477           Urban population (% of total population)  SP.URB.TOTL.IN.ZS   \n",
       "478           Urban population (% of total population)  SP.URB.TOTL.IN.ZS   \n",
       "479           Urban population (% of total population)  SP.URB.TOTL.IN.ZS   \n",
       "\n",
       "                    Value  \n",
       "0    #indicator+value+num  \n",
       "1              276.928623  \n",
       "2              268.672784  \n",
       "3             247.8605941  \n",
       "4             0.425952534  \n",
       "..                    ...  \n",
       "475                17.014  \n",
       "476                16.916  \n",
       "477                16.753  \n",
       "478                16.592  \n",
       "479                16.431  \n",
       "\n",
       "[480 rows x 6 columns]"
      ]
     },
     "execution_count": 3,
     "metadata": {},
     "output_type": "execute_result"
    }
   ],
   "source": [
    "urban_data = pd.read_csv('C:/Users/HP/OneDrive/Documents/GitHub/ICW20230777/urban-development_lka.csv')\n",
    "urban_data"
   ]
  },
  {
   "cell_type": "code",
   "execution_count": 4,
   "id": "2a9ded9f",
   "metadata": {},
   "outputs": [
    {
     "name": "stdout",
     "output_type": "stream",
     "text": [
      "<class 'pandas.core.frame.DataFrame'>\n",
      "RangeIndex: 480 entries, 0 to 479\n",
      "Data columns (total 6 columns):\n",
      " #   Column          Non-Null Count  Dtype \n",
      "---  ------          --------------  ----- \n",
      " 0   Country Name    480 non-null    object\n",
      " 1   Country ISO3    480 non-null    object\n",
      " 2   Year            480 non-null    object\n",
      " 3   Indicator Name  480 non-null    object\n",
      " 4   Indicator Code  480 non-null    object\n",
      " 5   Value           480 non-null    object\n",
      "dtypes: object(6)\n",
      "memory usage: 22.6+ KB\n"
     ]
    }
   ],
   "source": [
    "urban_data.info()"
   ]
  },
  {
   "cell_type": "code",
   "execution_count": 5,
   "id": "f096044d",
   "metadata": {},
   "outputs": [
    {
     "name": "stderr",
     "output_type": "stream",
     "text": [
      "C:\\Users\\HP\\AppData\\Local\\Temp\\ipykernel_16988\\1899399704.py:5: SettingWithCopyWarning: \n",
      "A value is trying to be set on a copy of a slice from a DataFrame.\n",
      "Try using .loc[row_indexer,col_indexer] = value instead\n",
      "\n",
      "See the caveats in the documentation: https://pandas.pydata.org/pandas-docs/stable/user_guide/indexing.html#returning-a-view-versus-a-copy\n",
      "  urban_data['Year'] = urban_data['Year'].astype(int)\n"
     ]
    }
   ],
   "source": [
    "# Remove the row containing '#date+year' in the 'Year' column\n",
    "urban_data = urban_data[urban_data['Year'] != '#date+year']\n",
    "\n",
    "# Now convert the 'Year' column to integers\n",
    "urban_data['Year'] = urban_data['Year'].astype(int)"
   ]
  },
  {
   "cell_type": "code",
   "execution_count": 6,
   "id": "48c6b0b2",
   "metadata": {},
   "outputs": [
    {
     "name": "stdout",
     "output_type": "stream",
     "text": [
      "<class 'pandas.core.frame.DataFrame'>\n",
      "Index: 479 entries, 1 to 479\n",
      "Data columns (total 6 columns):\n",
      " #   Column          Non-Null Count  Dtype \n",
      "---  ------          --------------  ----- \n",
      " 0   Country Name    479 non-null    object\n",
      " 1   Country ISO3    479 non-null    object\n",
      " 2   Year            479 non-null    int64 \n",
      " 3   Indicator Name  479 non-null    object\n",
      " 4   Indicator Code  479 non-null    object\n",
      " 5   Value           479 non-null    object\n",
      "dtypes: int64(1), object(5)\n",
      "memory usage: 26.2+ KB\n"
     ]
    }
   ],
   "source": [
    "urban_data.info()"
   ]
  },
  {
   "cell_type": "code",
   "execution_count": 8,
   "id": "36190306",
   "metadata": {},
   "outputs": [
    {
     "name": "stderr",
     "output_type": "stream",
     "text": [
      "C:\\Users\\HP\\AppData\\Local\\Temp\\ipykernel_16988\\1541246027.py:2: SettingWithCopyWarning: \n",
      "A value is trying to be set on a copy of a slice from a DataFrame.\n",
      "Try using .loc[row_indexer,col_indexer] = value instead\n",
      "\n",
      "See the caveats in the documentation: https://pandas.pydata.org/pandas-docs/stable/user_guide/indexing.html#returning-a-view-versus-a-copy\n",
      "  urban_data['Value'] = urban_data['Value'].astype(float)\n"
     ]
    }
   ],
   "source": [
    "#converting the 'value' column into float\n",
    "urban_data['Value'] = urban_data['Value'].astype(float)"
   ]
  },
  {
   "cell_type": "code",
   "execution_count": 9,
   "id": "38ffc13e",
   "metadata": {},
   "outputs": [
    {
     "name": "stderr",
     "output_type": "stream",
     "text": [
      "C:\\Users\\HP\\AppData\\Local\\Temp\\ipykernel_16988\\3305910112.py:1: SettingWithCopyWarning: \n",
      "A value is trying to be set on a copy of a slice from a DataFrame.\n",
      "Try using .loc[row_indexer,col_indexer] = value instead\n",
      "\n",
      "See the caveats in the documentation: https://pandas.pydata.org/pandas-docs/stable/user_guide/indexing.html#returning-a-view-versus-a-copy\n",
      "  urban_data['Value'] = pd.to_numeric(urban_data['Value'], errors='coerce')\n"
     ]
    }
   ],
   "source": [
    "urban_data['Value'] = pd.to_numeric(urban_data['Value'], errors='coerce')"
   ]
  },
  {
   "cell_type": "code",
   "execution_count": 10,
   "id": "598e4f11",
   "metadata": {},
   "outputs": [
    {
     "name": "stdout",
     "output_type": "stream",
     "text": [
      "<class 'pandas.core.frame.DataFrame'>\n",
      "Index: 479 entries, 1 to 479\n",
      "Data columns (total 6 columns):\n",
      " #   Column          Non-Null Count  Dtype  \n",
      "---  ------          --------------  -----  \n",
      " 0   Country Name    479 non-null    object \n",
      " 1   Country ISO3    479 non-null    object \n",
      " 2   Year            479 non-null    int64  \n",
      " 3   Indicator Name  479 non-null    object \n",
      " 4   Indicator Code  479 non-null    object \n",
      " 5   Value           479 non-null    float64\n",
      "dtypes: float64(1), int64(1), object(4)\n",
      "memory usage: 26.2+ KB\n"
     ]
    }
   ],
   "source": [
    "urban_data.info()"
   ]
  },
  {
   "cell_type": "code",
   "execution_count": 11,
   "id": "8ae9156b",
   "metadata": {},
   "outputs": [
    {
     "data": {
      "text/plain": [
       "Country Name      0\n",
       "Country ISO3      0\n",
       "Year              0\n",
       "Indicator Name    0\n",
       "Indicator Code    0\n",
       "Value             0\n",
       "dtype: int64"
      ]
     },
     "execution_count": 11,
     "metadata": {},
     "output_type": "execute_result"
    }
   ],
   "source": [
    "#missing values\n",
    "urban_data.isnull().sum()"
   ]
  }
 ],
 "metadata": {
  "kernelspec": {
   "display_name": "Streamlit",
   "language": "python",
   "name": "python3"
  },
  "language_info": {
   "codemirror_mode": {
    "name": "ipython",
    "version": 3
   },
   "file_extension": ".py",
   "mimetype": "text/x-python",
   "name": "python",
   "nbconvert_exporter": "python",
   "pygments_lexer": "ipython3",
   "version": "3.12.9"
  }
 },
 "nbformat": 4,
 "nbformat_minor": 5
}
